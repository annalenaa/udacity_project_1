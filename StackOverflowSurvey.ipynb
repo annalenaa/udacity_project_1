{
 "cells": [
  {
   "cell_type": "markdown",
   "metadata": {},
   "source": [
    "# Stackoverflow Survey 2018\n",
    "# Being a developer in India vs. being a developer in the U.S.\n",
    "\n",
    "For this analysis the Stackoverflow survey 2018 is being used. It can be found here:\n",
    "\n",
    "https://insights.stackoverflow.com/survey\n",
    "\n",
    "The descriptions for the visualizations can be found in the published blog post. Not everything that was created in this notebook was used for the post. "
   ]
  },
  {
   "cell_type": "code",
   "execution_count": 1,
   "metadata": {},
   "outputs": [],
   "source": [
    "import pandas as pd\n",
    "import numpy as np\n",
    "import zipfile\n",
    "import matplotlib.pyplot as plt\n",
    "%matplotlib inline\n",
    "\n",
    "pd.set_option('display.max_colwidth', -1)"
   ]
  },
  {
   "cell_type": "markdown",
   "metadata": {},
   "source": [
    "## Reading the dataset"
   ]
  },
  {
   "cell_type": "code",
   "execution_count": 2,
   "metadata": {},
   "outputs": [
    {
     "data": {
      "text/html": [
       "<div>\n",
       "<style scoped>\n",
       "    .dataframe tbody tr th:only-of-type {\n",
       "        vertical-align: middle;\n",
       "    }\n",
       "\n",
       "    .dataframe tbody tr th {\n",
       "        vertical-align: top;\n",
       "    }\n",
       "\n",
       "    .dataframe thead th {\n",
       "        text-align: right;\n",
       "    }\n",
       "</style>\n",
       "<table border=\"1\" class=\"dataframe\">\n",
       "  <thead>\n",
       "    <tr style=\"text-align: right;\">\n",
       "      <th></th>\n",
       "      <th>Respondent</th>\n",
       "      <th>Hobby</th>\n",
       "      <th>OpenSource</th>\n",
       "      <th>Country</th>\n",
       "      <th>Student</th>\n",
       "      <th>Employment</th>\n",
       "      <th>FormalEducation</th>\n",
       "      <th>UndergradMajor</th>\n",
       "      <th>CompanySize</th>\n",
       "      <th>DevType</th>\n",
       "      <th>...</th>\n",
       "      <th>Exercise</th>\n",
       "      <th>Gender</th>\n",
       "      <th>SexualOrientation</th>\n",
       "      <th>EducationParents</th>\n",
       "      <th>RaceEthnicity</th>\n",
       "      <th>Age</th>\n",
       "      <th>Dependents</th>\n",
       "      <th>MilitaryUS</th>\n",
       "      <th>SurveyTooLong</th>\n",
       "      <th>SurveyEasy</th>\n",
       "    </tr>\n",
       "  </thead>\n",
       "  <tbody>\n",
       "    <tr>\n",
       "      <th>0</th>\n",
       "      <td>1</td>\n",
       "      <td>Yes</td>\n",
       "      <td>No</td>\n",
       "      <td>Kenya</td>\n",
       "      <td>No</td>\n",
       "      <td>Employed part-time</td>\n",
       "      <td>Bachelor’s degree (BA, BS, B.Eng., etc.)</td>\n",
       "      <td>Mathematics or statistics</td>\n",
       "      <td>20 to 99 employees</td>\n",
       "      <td>Full-stack developer</td>\n",
       "      <td>...</td>\n",
       "      <td>3 - 4 times per week</td>\n",
       "      <td>Male</td>\n",
       "      <td>Straight or heterosexual</td>\n",
       "      <td>Bachelor’s degree (BA, BS, B.Eng., etc.)</td>\n",
       "      <td>Black or of African descent</td>\n",
       "      <td>25 - 34 years old</td>\n",
       "      <td>Yes</td>\n",
       "      <td>NaN</td>\n",
       "      <td>The survey was an appropriate length</td>\n",
       "      <td>Very easy</td>\n",
       "    </tr>\n",
       "    <tr>\n",
       "      <th>1</th>\n",
       "      <td>3</td>\n",
       "      <td>Yes</td>\n",
       "      <td>Yes</td>\n",
       "      <td>United Kingdom</td>\n",
       "      <td>No</td>\n",
       "      <td>Employed full-time</td>\n",
       "      <td>Bachelor’s degree (BA, BS, B.Eng., etc.)</td>\n",
       "      <td>A natural science (ex. biology, chemistry, physics)</td>\n",
       "      <td>10,000 or more employees</td>\n",
       "      <td>Database administrator;DevOps specialist;Full-stack developer;System administrator</td>\n",
       "      <td>...</td>\n",
       "      <td>Daily or almost every day</td>\n",
       "      <td>Male</td>\n",
       "      <td>Straight or heterosexual</td>\n",
       "      <td>Bachelor’s degree (BA, BS, B.Eng., etc.)</td>\n",
       "      <td>White or of European descent</td>\n",
       "      <td>35 - 44 years old</td>\n",
       "      <td>Yes</td>\n",
       "      <td>NaN</td>\n",
       "      <td>The survey was an appropriate length</td>\n",
       "      <td>Somewhat easy</td>\n",
       "    </tr>\n",
       "    <tr>\n",
       "      <th>2</th>\n",
       "      <td>4</td>\n",
       "      <td>Yes</td>\n",
       "      <td>Yes</td>\n",
       "      <td>United States</td>\n",
       "      <td>No</td>\n",
       "      <td>Employed full-time</td>\n",
       "      <td>Associate degree</td>\n",
       "      <td>Computer science, computer engineering, or software engineering</td>\n",
       "      <td>20 to 99 employees</td>\n",
       "      <td>Engineering manager;Full-stack developer</td>\n",
       "      <td>...</td>\n",
       "      <td>NaN</td>\n",
       "      <td>NaN</td>\n",
       "      <td>NaN</td>\n",
       "      <td>NaN</td>\n",
       "      <td>NaN</td>\n",
       "      <td>NaN</td>\n",
       "      <td>NaN</td>\n",
       "      <td>NaN</td>\n",
       "      <td>NaN</td>\n",
       "      <td>NaN</td>\n",
       "    </tr>\n",
       "    <tr>\n",
       "      <th>3</th>\n",
       "      <td>5</td>\n",
       "      <td>No</td>\n",
       "      <td>No</td>\n",
       "      <td>United States</td>\n",
       "      <td>No</td>\n",
       "      <td>Employed full-time</td>\n",
       "      <td>Bachelor’s degree (BA, BS, B.Eng., etc.)</td>\n",
       "      <td>Computer science, computer engineering, or software engineering</td>\n",
       "      <td>100 to 499 employees</td>\n",
       "      <td>Full-stack developer</td>\n",
       "      <td>...</td>\n",
       "      <td>I don't typically exercise</td>\n",
       "      <td>Male</td>\n",
       "      <td>Straight or heterosexual</td>\n",
       "      <td>Some college/university study without earning a degree</td>\n",
       "      <td>White or of European descent</td>\n",
       "      <td>35 - 44 years old</td>\n",
       "      <td>No</td>\n",
       "      <td>No</td>\n",
       "      <td>The survey was an appropriate length</td>\n",
       "      <td>Somewhat easy</td>\n",
       "    </tr>\n",
       "    <tr>\n",
       "      <th>4</th>\n",
       "      <td>7</td>\n",
       "      <td>Yes</td>\n",
       "      <td>No</td>\n",
       "      <td>South Africa</td>\n",
       "      <td>Yes, part-time</td>\n",
       "      <td>Employed full-time</td>\n",
       "      <td>Some college/university study without earning a degree</td>\n",
       "      <td>Computer science, computer engineering, or software engineering</td>\n",
       "      <td>10,000 or more employees</td>\n",
       "      <td>Data or business analyst;Desktop or enterprise applications developer;Game or graphics developer;QA or test developer;Student</td>\n",
       "      <td>...</td>\n",
       "      <td>3 - 4 times per week</td>\n",
       "      <td>Male</td>\n",
       "      <td>Straight or heterosexual</td>\n",
       "      <td>Some college/university study without earning a degree</td>\n",
       "      <td>White or of European descent</td>\n",
       "      <td>18 - 24 years old</td>\n",
       "      <td>Yes</td>\n",
       "      <td>NaN</td>\n",
       "      <td>The survey was an appropriate length</td>\n",
       "      <td>Somewhat easy</td>\n",
       "    </tr>\n",
       "  </tbody>\n",
       "</table>\n",
       "<p>5 rows × 129 columns</p>\n",
       "</div>"
      ],
      "text/plain": [
       "   Respondent Hobby OpenSource         Country         Student  \\\n",
       "0  1           Yes   No         Kenya           No               \n",
       "1  3           Yes   Yes        United Kingdom  No               \n",
       "2  4           Yes   Yes        United States   No               \n",
       "3  5           No    No         United States   No               \n",
       "4  7           Yes   No         South Africa    Yes, part-time   \n",
       "\n",
       "           Employment                                         FormalEducation  \\\n",
       "0  Employed part-time  Bachelor’s degree (BA, BS, B.Eng., etc.)                 \n",
       "1  Employed full-time  Bachelor’s degree (BA, BS, B.Eng., etc.)                 \n",
       "2  Employed full-time  Associate degree                                         \n",
       "3  Employed full-time  Bachelor’s degree (BA, BS, B.Eng., etc.)                 \n",
       "4  Employed full-time  Some college/university study without earning a degree   \n",
       "\n",
       "                                                    UndergradMajor  \\\n",
       "0  Mathematics or statistics                                         \n",
       "1  A natural science (ex. biology, chemistry, physics)               \n",
       "2  Computer science, computer engineering, or software engineering   \n",
       "3  Computer science, computer engineering, or software engineering   \n",
       "4  Computer science, computer engineering, or software engineering   \n",
       "\n",
       "                CompanySize  \\\n",
       "0  20 to 99 employees         \n",
       "1  10,000 or more employees   \n",
       "2  20 to 99 employees         \n",
       "3  100 to 499 employees       \n",
       "4  10,000 or more employees   \n",
       "\n",
       "                                                                                                                         DevType  \\\n",
       "0  Full-stack developer                                                                                                            \n",
       "1  Database administrator;DevOps specialist;Full-stack developer;System administrator                                              \n",
       "2  Engineering manager;Full-stack developer                                                                                        \n",
       "3  Full-stack developer                                                                                                            \n",
       "4  Data or business analyst;Desktop or enterprise applications developer;Game or graphics developer;QA or test developer;Student   \n",
       "\n",
       "       ...                          Exercise Gender         SexualOrientation  \\\n",
       "0      ...        3 - 4 times per week        Male   Straight or heterosexual   \n",
       "1      ...        Daily or almost every day   Male   Straight or heterosexual   \n",
       "2      ...        NaN                         NaN    NaN                        \n",
       "3      ...        I don't typically exercise  Male   Straight or heterosexual   \n",
       "4      ...        3 - 4 times per week        Male   Straight or heterosexual   \n",
       "\n",
       "                                         EducationParents  \\\n",
       "0  Bachelor’s degree (BA, BS, B.Eng., etc.)                 \n",
       "1  Bachelor’s degree (BA, BS, B.Eng., etc.)                 \n",
       "2  NaN                                                      \n",
       "3  Some college/university study without earning a degree   \n",
       "4  Some college/university study without earning a degree   \n",
       "\n",
       "                  RaceEthnicity                Age Dependents  MilitaryUS  \\\n",
       "0  Black or of African descent   25 - 34 years old  Yes        NaN          \n",
       "1  White or of European descent  35 - 44 years old  Yes        NaN          \n",
       "2  NaN                           NaN                NaN        NaN          \n",
       "3  White or of European descent  35 - 44 years old  No         No           \n",
       "4  White or of European descent  18 - 24 years old  Yes        NaN          \n",
       "\n",
       "                          SurveyTooLong     SurveyEasy  \n",
       "0  The survey was an appropriate length  Very easy      \n",
       "1  The survey was an appropriate length  Somewhat easy  \n",
       "2  NaN                                   NaN            \n",
       "3  The survey was an appropriate length  Somewhat easy  \n",
       "4  The survey was an appropriate length  Somewhat easy  \n",
       "\n",
       "[5 rows x 129 columns]"
      ]
     },
     "execution_count": 2,
     "metadata": {},
     "output_type": "execute_result"
    }
   ],
   "source": [
    "#Read 2018 survey data\n",
    "zf = zipfile.ZipFile('./developer_survey_2018.zip')\n",
    "df = pd.read_csv(zf.open('survey_results_public.csv'), low_memory=False)\n",
    "df.head()"
   ]
  },
  {
   "cell_type": "code",
   "execution_count": 3,
   "metadata": {},
   "outputs": [
    {
     "data": {
      "text/plain": [
       "(98855, 129)"
      ]
     },
     "execution_count": 3,
     "metadata": {},
     "output_type": "execute_result"
    }
   ],
   "source": [
    "df.shape"
   ]
  },
  {
   "cell_type": "markdown",
   "metadata": {},
   "source": [
    "The dataset contains 129 columns and almost 99000 observations. "
   ]
  },
  {
   "cell_type": "code",
   "execution_count": 4,
   "metadata": {},
   "outputs": [
    {
     "data": {
      "text/html": [
       "<div>\n",
       "<style scoped>\n",
       "    .dataframe tbody tr th:only-of-type {\n",
       "        vertical-align: middle;\n",
       "    }\n",
       "\n",
       "    .dataframe tbody tr th {\n",
       "        vertical-align: top;\n",
       "    }\n",
       "\n",
       "    .dataframe thead th {\n",
       "        text-align: right;\n",
       "    }\n",
       "</style>\n",
       "<table border=\"1\" class=\"dataframe\">\n",
       "  <thead>\n",
       "    <tr style=\"text-align: right;\">\n",
       "      <th></th>\n",
       "      <th>Respondent</th>\n",
       "      <th>AssessJob1</th>\n",
       "      <th>AssessJob2</th>\n",
       "      <th>AssessJob3</th>\n",
       "      <th>AssessJob4</th>\n",
       "      <th>AssessJob5</th>\n",
       "      <th>AssessJob6</th>\n",
       "      <th>AssessJob7</th>\n",
       "      <th>AssessJob8</th>\n",
       "      <th>AssessJob9</th>\n",
       "      <th>...</th>\n",
       "      <th>JobEmailPriorities6</th>\n",
       "      <th>JobEmailPriorities7</th>\n",
       "      <th>ConvertedSalary</th>\n",
       "      <th>AdsPriorities1</th>\n",
       "      <th>AdsPriorities2</th>\n",
       "      <th>AdsPriorities3</th>\n",
       "      <th>AdsPriorities4</th>\n",
       "      <th>AdsPriorities5</th>\n",
       "      <th>AdsPriorities6</th>\n",
       "      <th>AdsPriorities7</th>\n",
       "    </tr>\n",
       "  </thead>\n",
       "  <tbody>\n",
       "    <tr>\n",
       "      <th>count</th>\n",
       "      <td>98855.000000</td>\n",
       "      <td>66985.000000</td>\n",
       "      <td>66985.000000</td>\n",
       "      <td>66985.000000</td>\n",
       "      <td>66985.000000</td>\n",
       "      <td>66985.000000</td>\n",
       "      <td>66985.000000</td>\n",
       "      <td>66985.000000</td>\n",
       "      <td>66985.000000</td>\n",
       "      <td>66985.000000</td>\n",
       "      <td>...</td>\n",
       "      <td>46213.00000</td>\n",
       "      <td>46213.000000</td>\n",
       "      <td>4.770200e+04</td>\n",
       "      <td>60479.000000</td>\n",
       "      <td>60479.000000</td>\n",
       "      <td>60479.000000</td>\n",
       "      <td>60479.000000</td>\n",
       "      <td>60479.000000</td>\n",
       "      <td>60479.000000</td>\n",
       "      <td>60479.000000</td>\n",
       "    </tr>\n",
       "    <tr>\n",
       "      <th>mean</th>\n",
       "      <td>50822.971635</td>\n",
       "      <td>6.397089</td>\n",
       "      <td>6.673524</td>\n",
       "      <td>5.906875</td>\n",
       "      <td>4.065791</td>\n",
       "      <td>3.953243</td>\n",
       "      <td>4.407196</td>\n",
       "      <td>5.673181</td>\n",
       "      <td>4.225200</td>\n",
       "      <td>7.640009</td>\n",
       "      <td>...</td>\n",
       "      <td>4.97425</td>\n",
       "      <td>4.836388</td>\n",
       "      <td>9.578086e+04</td>\n",
       "      <td>2.726880</td>\n",
       "      <td>3.805784</td>\n",
       "      <td>3.340945</td>\n",
       "      <td>3.782470</td>\n",
       "      <td>4.383604</td>\n",
       "      <td>5.138809</td>\n",
       "      <td>4.821459</td>\n",
       "    </tr>\n",
       "    <tr>\n",
       "      <th>std</th>\n",
       "      <td>29321.650410</td>\n",
       "      <td>2.788428</td>\n",
       "      <td>2.531202</td>\n",
       "      <td>2.642734</td>\n",
       "      <td>2.541196</td>\n",
       "      <td>2.520499</td>\n",
       "      <td>2.502069</td>\n",
       "      <td>2.923998</td>\n",
       "      <td>2.507411</td>\n",
       "      <td>2.407457</td>\n",
       "      <td>...</td>\n",
       "      <td>1.86063</td>\n",
       "      <td>1.659844</td>\n",
       "      <td>2.023482e+05</td>\n",
       "      <td>1.881078</td>\n",
       "      <td>1.821323</td>\n",
       "      <td>1.673485</td>\n",
       "      <td>1.844864</td>\n",
       "      <td>1.931746</td>\n",
       "      <td>1.853249</td>\n",
       "      <td>1.874895</td>\n",
       "    </tr>\n",
       "    <tr>\n",
       "      <th>min</th>\n",
       "      <td>1.000000</td>\n",
       "      <td>1.000000</td>\n",
       "      <td>1.000000</td>\n",
       "      <td>1.000000</td>\n",
       "      <td>1.000000</td>\n",
       "      <td>1.000000</td>\n",
       "      <td>1.000000</td>\n",
       "      <td>1.000000</td>\n",
       "      <td>1.000000</td>\n",
       "      <td>1.000000</td>\n",
       "      <td>...</td>\n",
       "      <td>1.00000</td>\n",
       "      <td>1.000000</td>\n",
       "      <td>0.000000e+00</td>\n",
       "      <td>1.000000</td>\n",
       "      <td>1.000000</td>\n",
       "      <td>1.000000</td>\n",
       "      <td>1.000000</td>\n",
       "      <td>1.000000</td>\n",
       "      <td>1.000000</td>\n",
       "      <td>1.000000</td>\n",
       "    </tr>\n",
       "    <tr>\n",
       "      <th>25%</th>\n",
       "      <td>25443.500000</td>\n",
       "      <td>4.000000</td>\n",
       "      <td>5.000000</td>\n",
       "      <td>4.000000</td>\n",
       "      <td>2.000000</td>\n",
       "      <td>2.000000</td>\n",
       "      <td>2.000000</td>\n",
       "      <td>3.000000</td>\n",
       "      <td>2.000000</td>\n",
       "      <td>6.000000</td>\n",
       "      <td>...</td>\n",
       "      <td>4.00000</td>\n",
       "      <td>4.000000</td>\n",
       "      <td>2.384400e+04</td>\n",
       "      <td>1.000000</td>\n",
       "      <td>2.000000</td>\n",
       "      <td>2.000000</td>\n",
       "      <td>2.000000</td>\n",
       "      <td>3.000000</td>\n",
       "      <td>4.000000</td>\n",
       "      <td>3.000000</td>\n",
       "    </tr>\n",
       "    <tr>\n",
       "      <th>50%</th>\n",
       "      <td>50823.000000</td>\n",
       "      <td>7.000000</td>\n",
       "      <td>7.000000</td>\n",
       "      <td>6.000000</td>\n",
       "      <td>4.000000</td>\n",
       "      <td>3.000000</td>\n",
       "      <td>4.000000</td>\n",
       "      <td>6.000000</td>\n",
       "      <td>4.000000</td>\n",
       "      <td>8.000000</td>\n",
       "      <td>...</td>\n",
       "      <td>5.00000</td>\n",
       "      <td>5.000000</td>\n",
       "      <td>5.507500e+04</td>\n",
       "      <td>2.000000</td>\n",
       "      <td>4.000000</td>\n",
       "      <td>3.000000</td>\n",
       "      <td>4.000000</td>\n",
       "      <td>5.000000</td>\n",
       "      <td>6.000000</td>\n",
       "      <td>5.000000</td>\n",
       "    </tr>\n",
       "    <tr>\n",
       "      <th>75%</th>\n",
       "      <td>76219.500000</td>\n",
       "      <td>9.000000</td>\n",
       "      <td>9.000000</td>\n",
       "      <td>8.000000</td>\n",
       "      <td>6.000000</td>\n",
       "      <td>6.000000</td>\n",
       "      <td>6.000000</td>\n",
       "      <td>8.000000</td>\n",
       "      <td>6.000000</td>\n",
       "      <td>10.000000</td>\n",
       "      <td>...</td>\n",
       "      <td>7.00000</td>\n",
       "      <td>6.000000</td>\n",
       "      <td>9.300000e+04</td>\n",
       "      <td>4.000000</td>\n",
       "      <td>5.000000</td>\n",
       "      <td>5.000000</td>\n",
       "      <td>5.000000</td>\n",
       "      <td>6.000000</td>\n",
       "      <td>7.000000</td>\n",
       "      <td>7.000000</td>\n",
       "    </tr>\n",
       "    <tr>\n",
       "      <th>max</th>\n",
       "      <td>101592.000000</td>\n",
       "      <td>10.000000</td>\n",
       "      <td>10.000000</td>\n",
       "      <td>10.000000</td>\n",
       "      <td>10.000000</td>\n",
       "      <td>10.000000</td>\n",
       "      <td>10.000000</td>\n",
       "      <td>10.000000</td>\n",
       "      <td>10.000000</td>\n",
       "      <td>10.000000</td>\n",
       "      <td>...</td>\n",
       "      <td>7.00000</td>\n",
       "      <td>7.000000</td>\n",
       "      <td>2.000000e+06</td>\n",
       "      <td>7.000000</td>\n",
       "      <td>7.000000</td>\n",
       "      <td>7.000000</td>\n",
       "      <td>7.000000</td>\n",
       "      <td>7.000000</td>\n",
       "      <td>7.000000</td>\n",
       "      <td>7.000000</td>\n",
       "    </tr>\n",
       "  </tbody>\n",
       "</table>\n",
       "<p>8 rows × 42 columns</p>\n",
       "</div>"
      ],
      "text/plain": [
       "          Respondent    AssessJob1    AssessJob2    AssessJob3    AssessJob4  \\\n",
       "count  98855.000000   66985.000000  66985.000000  66985.000000  66985.000000   \n",
       "mean   50822.971635   6.397089      6.673524      5.906875      4.065791       \n",
       "std    29321.650410   2.788428      2.531202      2.642734      2.541196       \n",
       "min    1.000000       1.000000      1.000000      1.000000      1.000000       \n",
       "25%    25443.500000   4.000000      5.000000      4.000000      2.000000       \n",
       "50%    50823.000000   7.000000      7.000000      6.000000      4.000000       \n",
       "75%    76219.500000   9.000000      9.000000      8.000000      6.000000       \n",
       "max    101592.000000  10.000000     10.000000     10.000000     10.000000      \n",
       "\n",
       "         AssessJob5    AssessJob6    AssessJob7    AssessJob8    AssessJob9  \\\n",
       "count  66985.000000  66985.000000  66985.000000  66985.000000  66985.000000   \n",
       "mean   3.953243      4.407196      5.673181      4.225200      7.640009       \n",
       "std    2.520499      2.502069      2.923998      2.507411      2.407457       \n",
       "min    1.000000      1.000000      1.000000      1.000000      1.000000       \n",
       "25%    2.000000      2.000000      3.000000      2.000000      6.000000       \n",
       "50%    3.000000      4.000000      6.000000      4.000000      8.000000       \n",
       "75%    6.000000      6.000000      8.000000      6.000000      10.000000      \n",
       "max    10.000000     10.000000     10.000000     10.000000     10.000000      \n",
       "\n",
       "            ...        JobEmailPriorities6  JobEmailPriorities7  \\\n",
       "count       ...        46213.00000          46213.000000          \n",
       "mean        ...        4.97425              4.836388              \n",
       "std         ...        1.86063              1.659844              \n",
       "min         ...        1.00000              1.000000              \n",
       "25%         ...        4.00000              4.000000              \n",
       "50%         ...        5.00000              5.000000              \n",
       "75%         ...        7.00000              6.000000              \n",
       "max         ...        7.00000              7.000000              \n",
       "\n",
       "       ConvertedSalary  AdsPriorities1  AdsPriorities2  AdsPriorities3  \\\n",
       "count  4.770200e+04     60479.000000    60479.000000    60479.000000     \n",
       "mean   9.578086e+04     2.726880        3.805784        3.340945         \n",
       "std    2.023482e+05     1.881078        1.821323        1.673485         \n",
       "min    0.000000e+00     1.000000        1.000000        1.000000         \n",
       "25%    2.384400e+04     1.000000        2.000000        2.000000         \n",
       "50%    5.507500e+04     2.000000        4.000000        3.000000         \n",
       "75%    9.300000e+04     4.000000        5.000000        5.000000         \n",
       "max    2.000000e+06     7.000000        7.000000        7.000000         \n",
       "\n",
       "       AdsPriorities4  AdsPriorities5  AdsPriorities6  AdsPriorities7  \n",
       "count  60479.000000    60479.000000    60479.000000    60479.000000    \n",
       "mean   3.782470        4.383604        5.138809        4.821459        \n",
       "std    1.844864        1.931746        1.853249        1.874895        \n",
       "min    1.000000        1.000000        1.000000        1.000000        \n",
       "25%    2.000000        3.000000        4.000000        3.000000        \n",
       "50%    4.000000        5.000000        6.000000        5.000000        \n",
       "75%    5.000000        6.000000        7.000000        7.000000        \n",
       "max    7.000000        7.000000        7.000000        7.000000        \n",
       "\n",
       "[8 rows x 42 columns]"
      ]
     },
     "execution_count": 4,
     "metadata": {},
     "output_type": "execute_result"
    }
   ],
   "source": [
    "# taking a look at the numercial variables\n",
    "df.describe()"
   ]
  },
  {
   "cell_type": "markdown",
   "metadata": {},
   "source": [
    "There a many categorical variables encoded as numerical, like AdsPriorities. Since I will not use all the features provided in the dataset, I will first determine the ones that are useful to my analysis and then move on with the data cleaning and wrangling, if there is some to do."
   ]
  },
  {
   "cell_type": "markdown",
   "metadata": {},
   "source": [
    "## Missing values"
   ]
  },
  {
   "cell_type": "code",
   "execution_count": 5,
   "metadata": {},
   "outputs": [],
   "source": [
    "missings = df.isnull().sum()/len(df)"
   ]
  },
  {
   "cell_type": "code",
   "execution_count": 6,
   "metadata": {},
   "outputs": [
    {
     "data": {
      "image/png": "[encoded data removed]",
      "text/plain": [
       "<Figure size 1584x720 with 1 Axes>"
      ]
     },
     "metadata": {
      "needs_background": "light"
     },
     "output_type": "display_data"
    }
   ],
   "source": [
    "plt.figure(figsize=(22,10))\n",
    "plt.bar(np.arange(len(missings)), missings, color='#9B59B6')\n",
    "plt.axhline(0.4, color='black', linestyle='--')\n",
    "plt.xticks(np.arange(len(missings)), missings.index, rotation='vertical')\n",
    "plt.yticks(np.arange(0, 1.1, step=0.1))\n",
    "plt.title('Percentage of missing values per column')\n",
    "plt.ylabel('Percentage');"
   ]
  },
  {
   "cell_type": "markdown",
   "metadata": {},
   "source": [
    "There are actually relatively many missing values across all features. Since the order of the features is the same as the order of the questions asked in the survey, I would have suspected an increase in missing values from the beginning to the end of the survey due to people not finishing it. However, it is also possible that the survey can only be submitted once answering or skipping all the questions.\n",
    "\n",
    "The columns with most missing values are 'TimeAfterBootcamp' (probably because only a few people did a bootcamp and therefore cannot answer this question), 'MilitaryUS' (only 20309 people from the U.S. participated in the survey, so there naturally have to be many missing values), and 'HackathonReasons' (only people who participated in a hackathon could answer this). \n",
    "\n",
    "**For the upcoming analysis through visualizations I only used people who answered the question I am considering.** Participants who skipped the question (NaNs) will be excluded from the visualization in order to make the output easier to interpret. I don't want readers from the blogpost to wonder about why the percentages don't add up to 100%. "
   ]
  },
  {
   "cell_type": "code",
   "execution_count": 7,
   "metadata": {},
   "outputs": [
    {
     "data": {
      "text/plain": [
       "20309"
      ]
     },
     "execution_count": 7,
     "metadata": {},
     "output_type": "execute_result"
    }
   ],
   "source": [
    "#number of participants from the U.S.\n",
    "df.Country.value_counts()['United States']"
   ]
  },
  {
   "cell_type": "markdown",
   "metadata": {},
   "source": [
    "## Duplicates"
   ]
  },
  {
   "cell_type": "code",
   "execution_count": 8,
   "metadata": {},
   "outputs": [
    {
     "data": {
      "text/html": [
       "<div>\n",
       "<style scoped>\n",
       "    .dataframe tbody tr th:only-of-type {\n",
       "        vertical-align: middle;\n",
       "    }\n",
       "\n",
       "    .dataframe tbody tr th {\n",
       "        vertical-align: top;\n",
       "    }\n",
       "\n",
       "    .dataframe thead th {\n",
       "        text-align: right;\n",
       "    }\n",
       "</style>\n",
       "<table border=\"1\" class=\"dataframe\">\n",
       "  <thead>\n",
       "    <tr style=\"text-align: right;\">\n",
       "      <th></th>\n",
       "      <th>Respondent</th>\n",
       "      <th>Hobby</th>\n",
       "      <th>OpenSource</th>\n",
       "      <th>Country</th>\n",
       "      <th>Student</th>\n",
       "      <th>Employment</th>\n",
       "      <th>FormalEducation</th>\n",
       "      <th>UndergradMajor</th>\n",
       "      <th>CompanySize</th>\n",
       "      <th>DevType</th>\n",
       "      <th>...</th>\n",
       "      <th>Exercise</th>\n",
       "      <th>Gender</th>\n",
       "      <th>SexualOrientation</th>\n",
       "      <th>EducationParents</th>\n",
       "      <th>RaceEthnicity</th>\n",
       "      <th>Age</th>\n",
       "      <th>Dependents</th>\n",
       "      <th>MilitaryUS</th>\n",
       "      <th>SurveyTooLong</th>\n",
       "      <th>SurveyEasy</th>\n",
       "    </tr>\n",
       "  </thead>\n",
       "  <tbody>\n",
       "  </tbody>\n",
       "</table>\n",
       "<p>0 rows × 129 columns</p>\n",
       "</div>"
      ],
      "text/plain": [
       "Empty DataFrame\n",
       "Columns: [Respondent, Hobby, OpenSource, Country, Student, Employment, FormalEducation, UndergradMajor, CompanySize, DevType, YearsCoding, YearsCodingProf, JobSatisfaction, CareerSatisfaction, HopeFiveYears, JobSearchStatus, LastNewJob, AssessJob1, AssessJob2, AssessJob3, AssessJob4, AssessJob5, AssessJob6, AssessJob7, AssessJob8, AssessJob9, AssessJob10, AssessBenefits1, AssessBenefits2, AssessBenefits3, AssessBenefits4, AssessBenefits5, AssessBenefits6, AssessBenefits7, AssessBenefits8, AssessBenefits9, AssessBenefits10, AssessBenefits11, JobContactPriorities1, JobContactPriorities2, JobContactPriorities3, JobContactPriorities4, JobContactPriorities5, JobEmailPriorities1, JobEmailPriorities2, JobEmailPriorities3, JobEmailPriorities4, JobEmailPriorities5, JobEmailPriorities6, JobEmailPriorities7, UpdateCV, Currency, Salary, SalaryType, ConvertedSalary, CurrencySymbol, CommunicationTools, TimeFullyProductive, EducationTypes, SelfTaughtTypes, TimeAfterBootcamp, HackathonReasons, AgreeDisagree1, AgreeDisagree2, AgreeDisagree3, LanguageWorkedWith, LanguageDesireNextYear, DatabaseWorkedWith, DatabaseDesireNextYear, PlatformWorkedWith, PlatformDesireNextYear, FrameworkWorkedWith, FrameworkDesireNextYear, IDE, OperatingSystem, NumberMonitors, Methodology, VersionControl, CheckInCode, AdBlocker, AdBlockerDisable, AdBlockerReasons, AdsAgreeDisagree1, AdsAgreeDisagree2, AdsAgreeDisagree3, AdsActions, AdsPriorities1, AdsPriorities2, AdsPriorities3, AdsPriorities4, AdsPriorities5, AdsPriorities6, AdsPriorities7, AIDangerous, AIInteresting, AIResponsible, AIFuture, EthicsChoice, EthicsReport, EthicsResponsible, ...]\n",
       "Index: []\n",
       "\n",
       "[0 rows x 129 columns]"
      ]
     },
     "execution_count": 8,
     "metadata": {},
     "output_type": "execute_result"
    }
   ],
   "source": [
    "df[df.duplicated()]"
   ]
  },
  {
   "cell_type": "markdown",
   "metadata": {},
   "source": [
    "There are no dupliate rows in the dataset."
   ]
  },
  {
   "cell_type": "markdown",
   "metadata": {},
   "source": [
    "## Identifying the relevant features for this analysis\n",
    "\n",
    "My aim is to compare developers in India and developers in the U.S. by looking at their job satisfaction, their time on the current job and their hopes for the future. \n",
    "\n",
    "Ideally I would find some interesting differences between the two groups and show the different working environments. "
   ]
  },
  {
   "cell_type": "code",
   "execution_count": 9,
   "metadata": {},
   "outputs": [
    {
     "data": {
      "text/plain": [
       "['Respondent',\n",
       " 'Hobby',\n",
       " 'OpenSource',\n",
       " 'Country',\n",
       " 'Student',\n",
       " 'Employment',\n",
       " 'FormalEducation',\n",
       " 'UndergradMajor',\n",
       " 'CompanySize',\n",
       " 'DevType',\n",
       " 'YearsCoding',\n",
       " 'YearsCodingProf',\n",
       " 'JobSatisfaction',\n",
       " 'CareerSatisfaction',\n",
       " 'HopeFiveYears',\n",
       " 'JobSearchStatus',\n",
       " 'LastNewJob',\n",
       " 'AssessJob1',\n",
       " 'AssessJob2',\n",
       " 'AssessJob3',\n",
       " 'AssessJob4',\n",
       " 'AssessJob5',\n",
       " 'AssessJob6',\n",
       " 'AssessJob7',\n",
       " 'AssessJob8',\n",
       " 'AssessJob9',\n",
       " 'AssessJob10',\n",
       " 'AssessBenefits1',\n",
       " 'AssessBenefits2',\n",
       " 'AssessBenefits3',\n",
       " 'AssessBenefits4',\n",
       " 'AssessBenefits5',\n",
       " 'AssessBenefits6',\n",
       " 'AssessBenefits7',\n",
       " 'AssessBenefits8',\n",
       " 'AssessBenefits9',\n",
       " 'AssessBenefits10',\n",
       " 'AssessBenefits11',\n",
       " 'JobContactPriorities1',\n",
       " 'JobContactPriorities2',\n",
       " 'JobContactPriorities3',\n",
       " 'JobContactPriorities4',\n",
       " 'JobContactPriorities5',\n",
       " 'JobEmailPriorities1',\n",
       " 'JobEmailPriorities2',\n",
       " 'JobEmailPriorities3',\n",
       " 'JobEmailPriorities4',\n",
       " 'JobEmailPriorities5',\n",
       " 'JobEmailPriorities6',\n",
       " 'JobEmailPriorities7',\n",
       " 'UpdateCV',\n",
       " 'Currency',\n",
       " 'Salary',\n",
       " 'SalaryType',\n",
       " 'ConvertedSalary',\n",
       " 'CurrencySymbol',\n",
       " 'CommunicationTools',\n",
       " 'TimeFullyProductive',\n",
       " 'EducationTypes',\n",
       " 'SelfTaughtTypes',\n",
       " 'TimeAfterBootcamp',\n",
       " 'HackathonReasons',\n",
       " 'AgreeDisagree1',\n",
       " 'AgreeDisagree2',\n",
       " 'AgreeDisagree3',\n",
       " 'LanguageWorkedWith',\n",
       " 'LanguageDesireNextYear',\n",
       " 'DatabaseWorkedWith',\n",
       " 'DatabaseDesireNextYear',\n",
       " 'PlatformWorkedWith',\n",
       " 'PlatformDesireNextYear',\n",
       " 'FrameworkWorkedWith',\n",
       " 'FrameworkDesireNextYear',\n",
       " 'IDE',\n",
       " 'OperatingSystem',\n",
       " 'NumberMonitors',\n",
       " 'Methodology',\n",
       " 'VersionControl',\n",
       " 'CheckInCode',\n",
       " 'AdBlocker',\n",
       " 'AdBlockerDisable',\n",
       " 'AdBlockerReasons',\n",
       " 'AdsAgreeDisagree1',\n",
       " 'AdsAgreeDisagree2',\n",
       " 'AdsAgreeDisagree3',\n",
       " 'AdsActions',\n",
       " 'AdsPriorities1',\n",
       " 'AdsPriorities2',\n",
       " 'AdsPriorities3',\n",
       " 'AdsPriorities4',\n",
       " 'AdsPriorities5',\n",
       " 'AdsPriorities6',\n",
       " 'AdsPriorities7',\n",
       " 'AIDangerous',\n",
       " 'AIInteresting',\n",
       " 'AIResponsible',\n",
       " 'AIFuture',\n",
       " 'EthicsChoice',\n",
       " 'EthicsReport',\n",
       " 'EthicsResponsible',\n",
       " 'EthicalImplications',\n",
       " 'StackOverflowRecommend',\n",
       " 'StackOverflowVisit',\n",
       " 'StackOverflowHasAccount',\n",
       " 'StackOverflowParticipate',\n",
       " 'StackOverflowJobs',\n",
       " 'StackOverflowDevStory',\n",
       " 'StackOverflowJobsRecommend',\n",
       " 'StackOverflowConsiderMember',\n",
       " 'HypotheticalTools1',\n",
       " 'HypotheticalTools2',\n",
       " 'HypotheticalTools3',\n",
       " 'HypotheticalTools4',\n",
       " 'HypotheticalTools5',\n",
       " 'WakeTime',\n",
       " 'HoursComputer',\n",
       " 'HoursOutside',\n",
       " 'SkipMeals',\n",
       " 'ErgonomicDevices',\n",
       " 'Exercise',\n",
       " 'Gender',\n",
       " 'SexualOrientation',\n",
       " 'EducationParents',\n",
       " 'RaceEthnicity',\n",
       " 'Age',\n",
       " 'Dependents',\n",
       " 'MilitaryUS',\n",
       " 'SurveyTooLong',\n",
       " 'SurveyEasy']"
      ]
     },
     "execution_count": 9,
     "metadata": {},
     "output_type": "execute_result"
    }
   ],
   "source": [
    "list(df.columns)"
   ]
  },
  {
   "cell_type": "markdown",
   "metadata": {},
   "source": [
    "### Interesting columns:\n",
    "\n",
    "- Hobby\n",
    "- Country\n",
    "- FormalEducation\n",
    "- CompanySize\n",
    "- DevType\n",
    "- JobSatisfaction\n",
    "- HopeFiveYears\n",
    "- LastNewJob\n",
    "- AIDangerous\n",
    "- AIInteresting\n",
    "- AIFuture\n",
    "- WakeTime\n",
    "- HoursComputer\n",
    "- HoursOutside\n",
    "- SkipMeals\n",
    "- Exercise\n",
    "- Gender\n",
    "- Salary\n",
    "- SalaryType"
   ]
  },
  {
   "cell_type": "code",
   "execution_count": 10,
   "metadata": {},
   "outputs": [],
   "source": [
    "columns_of_interest = ['Hobby','Country','FormalEducation','CompanySize','DevType','JobSatisfaction',\n",
    "                       'HopeFiveYears','LastNewJob','AIDangerous','AIInteresting','AIFuture',\n",
    "                       'WakeTime','HoursComputer','HoursOutside','SkipMeals','Exercise','Gender','Salary',\n",
    "                       'SalaryType', 'ErgonomicDevices', 'EducationParents']"
   ]
  },
  {
   "cell_type": "code",
   "execution_count": 11,
   "metadata": {},
   "outputs": [],
   "source": [
    "# continue working with only the potentially interesting columns \n",
    "df_new = df[columns_of_interest]"
   ]
  },
  {
   "cell_type": "code",
   "execution_count": 12,
   "metadata": {},
   "outputs": [
    {
     "data": {
      "text/html": [
       "<div>\n",
       "<style scoped>\n",
       "    .dataframe tbody tr th:only-of-type {\n",
       "        vertical-align: middle;\n",
       "    }\n",
       "\n",
       "    .dataframe tbody tr th {\n",
       "        vertical-align: top;\n",
       "    }\n",
       "\n",
       "    .dataframe thead th {\n",
       "        text-align: right;\n",
       "    }\n",
       "</style>\n",
       "<table border=\"1\" class=\"dataframe\">\n",
       "  <thead>\n",
       "    <tr style=\"text-align: right;\">\n",
       "      <th></th>\n",
       "      <th>Hobby</th>\n",
       "      <th>Country</th>\n",
       "      <th>FormalEducation</th>\n",
       "      <th>CompanySize</th>\n",
       "      <th>DevType</th>\n",
       "      <th>JobSatisfaction</th>\n",
       "      <th>HopeFiveYears</th>\n",
       "      <th>LastNewJob</th>\n",
       "      <th>AIDangerous</th>\n",
       "      <th>AIInteresting</th>\n",
       "      <th>...</th>\n",
       "      <th>WakeTime</th>\n",
       "      <th>HoursComputer</th>\n",
       "      <th>HoursOutside</th>\n",
       "      <th>SkipMeals</th>\n",
       "      <th>Exercise</th>\n",
       "      <th>Gender</th>\n",
       "      <th>Salary</th>\n",
       "      <th>SalaryType</th>\n",
       "      <th>ErgonomicDevices</th>\n",
       "      <th>EducationParents</th>\n",
       "    </tr>\n",
       "  </thead>\n",
       "  <tbody>\n",
       "    <tr>\n",
       "      <th>0</th>\n",
       "      <td>Yes</td>\n",
       "      <td>Kenya</td>\n",
       "      <td>Bachelor’s degree (BA, BS, B.Eng., etc.)</td>\n",
       "      <td>20 to 99 employees</td>\n",
       "      <td>Full-stack developer</td>\n",
       "      <td>Extremely satisfied</td>\n",
       "      <td>Working as a founder or co-founder of my own company</td>\n",
       "      <td>Less than a year ago</td>\n",
       "      <td>Artificial intelligence surpassing human intelligence (\"the singularity\")</td>\n",
       "      <td>Algorithms making important decisions</td>\n",
       "      <td>...</td>\n",
       "      <td>Between 5:00 - 6:00 AM</td>\n",
       "      <td>9 - 12 hours</td>\n",
       "      <td>1 - 2 hours</td>\n",
       "      <td>Never</td>\n",
       "      <td>3 - 4 times per week</td>\n",
       "      <td>Male</td>\n",
       "      <td>NaN</td>\n",
       "      <td>Monthly</td>\n",
       "      <td>Standing desk</td>\n",
       "      <td>Bachelor’s degree (BA, BS, B.Eng., etc.)</td>\n",
       "    </tr>\n",
       "    <tr>\n",
       "      <th>1</th>\n",
       "      <td>Yes</td>\n",
       "      <td>United Kingdom</td>\n",
       "      <td>Bachelor’s degree (BA, BS, B.Eng., etc.)</td>\n",
       "      <td>10,000 or more employees</td>\n",
       "      <td>Database administrator;DevOps specialist;Full-stack developer;System administrator</td>\n",
       "      <td>Moderately dissatisfied</td>\n",
       "      <td>Working in a different or more specialized technical role than the one I'm in now</td>\n",
       "      <td>More than 4 years ago</td>\n",
       "      <td>Increasing automation of jobs</td>\n",
       "      <td>Increasing automation of jobs</td>\n",
       "      <td>...</td>\n",
       "      <td>Between 6:01 - 7:00 AM</td>\n",
       "      <td>5 - 8 hours</td>\n",
       "      <td>30 - 59 minutes</td>\n",
       "      <td>Never</td>\n",
       "      <td>Daily or almost every day</td>\n",
       "      <td>Male</td>\n",
       "      <td>51000</td>\n",
       "      <td>Yearly</td>\n",
       "      <td>Ergonomic keyboard or mouse</td>\n",
       "      <td>Bachelor’s degree (BA, BS, B.Eng., etc.)</td>\n",
       "    </tr>\n",
       "    <tr>\n",
       "      <th>2</th>\n",
       "      <td>Yes</td>\n",
       "      <td>United States</td>\n",
       "      <td>Associate degree</td>\n",
       "      <td>20 to 99 employees</td>\n",
       "      <td>Engineering manager;Full-stack developer</td>\n",
       "      <td>Moderately satisfied</td>\n",
       "      <td>Working as a founder or co-founder of my own company</td>\n",
       "      <td>Less than a year ago</td>\n",
       "      <td>NaN</td>\n",
       "      <td>NaN</td>\n",
       "      <td>...</td>\n",
       "      <td>NaN</td>\n",
       "      <td>NaN</td>\n",
       "      <td>NaN</td>\n",
       "      <td>NaN</td>\n",
       "      <td>NaN</td>\n",
       "      <td>NaN</td>\n",
       "      <td>NaN</td>\n",
       "      <td>NaN</td>\n",
       "      <td>NaN</td>\n",
       "      <td>NaN</td>\n",
       "    </tr>\n",
       "    <tr>\n",
       "      <th>3</th>\n",
       "      <td>No</td>\n",
       "      <td>United States</td>\n",
       "      <td>Bachelor’s degree (BA, BS, B.Eng., etc.)</td>\n",
       "      <td>100 to 499 employees</td>\n",
       "      <td>Full-stack developer</td>\n",
       "      <td>Neither satisfied nor dissatisfied</td>\n",
       "      <td>Working as a founder or co-founder of my own company</td>\n",
       "      <td>Less than a year ago</td>\n",
       "      <td>Artificial intelligence surpassing human intelligence (\"the singularity\")</td>\n",
       "      <td>Artificial intelligence surpassing human intelligence (\"the singularity\")</td>\n",
       "      <td>...</td>\n",
       "      <td>Between 6:01 - 7:00 AM</td>\n",
       "      <td>9 - 12 hours</td>\n",
       "      <td>Less than 30 minutes</td>\n",
       "      <td>3 - 4 times per week</td>\n",
       "      <td>I don't typically exercise</td>\n",
       "      <td>Male</td>\n",
       "      <td>NaN</td>\n",
       "      <td>NaN</td>\n",
       "      <td>NaN</td>\n",
       "      <td>Some college/university study without earning a degree</td>\n",
       "    </tr>\n",
       "    <tr>\n",
       "      <th>4</th>\n",
       "      <td>Yes</td>\n",
       "      <td>South Africa</td>\n",
       "      <td>Some college/university study without earning a degree</td>\n",
       "      <td>10,000 or more employees</td>\n",
       "      <td>Data or business analyst;Desktop or enterprise applications developer;Game or graphics developer;QA or test developer;Student</td>\n",
       "      <td>Slightly satisfied</td>\n",
       "      <td>Working in a different or more specialized technical role than the one I'm in now</td>\n",
       "      <td>Between 1 and 2 years ago</td>\n",
       "      <td>Algorithms making important decisions</td>\n",
       "      <td>Algorithms making important decisions</td>\n",
       "      <td>...</td>\n",
       "      <td>Before 5:00 AM</td>\n",
       "      <td>Over 12 hours</td>\n",
       "      <td>1 - 2 hours</td>\n",
       "      <td>Never</td>\n",
       "      <td>3 - 4 times per week</td>\n",
       "      <td>Male</td>\n",
       "      <td>260000</td>\n",
       "      <td>Yearly</td>\n",
       "      <td>NaN</td>\n",
       "      <td>Some college/university study without earning a degree</td>\n",
       "    </tr>\n",
       "  </tbody>\n",
       "</table>\n",
       "<p>5 rows × 21 columns</p>\n",
       "</div>"
      ],
      "text/plain": [
       "  Hobby         Country  \\\n",
       "0  Yes   Kenya            \n",
       "1  Yes   United Kingdom   \n",
       "2  Yes   United States    \n",
       "3  No    United States    \n",
       "4  Yes   South Africa     \n",
       "\n",
       "                                          FormalEducation  \\\n",
       "0  Bachelor’s degree (BA, BS, B.Eng., etc.)                 \n",
       "1  Bachelor’s degree (BA, BS, B.Eng., etc.)                 \n",
       "2  Associate degree                                         \n",
       "3  Bachelor’s degree (BA, BS, B.Eng., etc.)                 \n",
       "4  Some college/university study without earning a degree   \n",
       "\n",
       "                CompanySize  \\\n",
       "0  20 to 99 employees         \n",
       "1  10,000 or more employees   \n",
       "2  20 to 99 employees         \n",
       "3  100 to 499 employees       \n",
       "4  10,000 or more employees   \n",
       "\n",
       "                                                                                                                         DevType  \\\n",
       "0  Full-stack developer                                                                                                            \n",
       "1  Database administrator;DevOps specialist;Full-stack developer;System administrator                                              \n",
       "2  Engineering manager;Full-stack developer                                                                                        \n",
       "3  Full-stack developer                                                                                                            \n",
       "4  Data or business analyst;Desktop or enterprise applications developer;Game or graphics developer;QA or test developer;Student   \n",
       "\n",
       "                      JobSatisfaction  \\\n",
       "0  Extremely satisfied                  \n",
       "1  Moderately dissatisfied              \n",
       "2  Moderately satisfied                 \n",
       "3  Neither satisfied nor dissatisfied   \n",
       "4  Slightly satisfied                   \n",
       "\n",
       "                                                                       HopeFiveYears  \\\n",
       "0  Working as a founder or co-founder of my own company                                \n",
       "1  Working in a different or more specialized technical role than the one I'm in now   \n",
       "2  Working as a founder or co-founder of my own company                                \n",
       "3  Working as a founder or co-founder of my own company                                \n",
       "4  Working in a different or more specialized technical role than the one I'm in now   \n",
       "\n",
       "                  LastNewJob  \\\n",
       "0  Less than a year ago        \n",
       "1  More than 4 years ago       \n",
       "2  Less than a year ago        \n",
       "3  Less than a year ago        \n",
       "4  Between 1 and 2 years ago   \n",
       "\n",
       "                                                                 AIDangerous  \\\n",
       "0  Artificial intelligence surpassing human intelligence (\"the singularity\")   \n",
       "1  Increasing automation of jobs                                               \n",
       "2  NaN                                                                         \n",
       "3  Artificial intelligence surpassing human intelligence (\"the singularity\")   \n",
       "4  Algorithms making important decisions                                       \n",
       "\n",
       "                                                               AIInteresting  \\\n",
       "0  Algorithms making important decisions                                       \n",
       "1  Increasing automation of jobs                                               \n",
       "2  NaN                                                                         \n",
       "3  Artificial intelligence surpassing human intelligence (\"the singularity\")   \n",
       "4  Algorithms making important decisions                                       \n",
       "\n",
       "                            ...                            \\\n",
       "0                           ...                             \n",
       "1                           ...                             \n",
       "2                           ...                             \n",
       "3                           ...                             \n",
       "4                           ...                             \n",
       "\n",
       "                 WakeTime  HoursComputer          HoursOutside  \\\n",
       "0  Between 5:00 - 6:00 AM  9 - 12 hours   1 - 2 hours            \n",
       "1  Between 6:01 - 7:00 AM  5 - 8 hours    30 - 59 minutes        \n",
       "2  NaN                     NaN            NaN                    \n",
       "3  Between 6:01 - 7:00 AM  9 - 12 hours   Less than 30 minutes   \n",
       "4  Before 5:00 AM          Over 12 hours  1 - 2 hours            \n",
       "\n",
       "              SkipMeals                    Exercise Gender  Salary SalaryType  \\\n",
       "0  Never                 3 - 4 times per week        Male   NaN     Monthly     \n",
       "1  Never                 Daily or almost every day   Male   51000   Yearly      \n",
       "2  NaN                   NaN                         NaN    NaN     NaN         \n",
       "3  3 - 4 times per week  I don't typically exercise  Male   NaN     NaN         \n",
       "4  Never                 3 - 4 times per week        Male   260000  Yearly      \n",
       "\n",
       "              ErgonomicDevices  \\\n",
       "0  Standing desk                 \n",
       "1  Ergonomic keyboard or mouse   \n",
       "2  NaN                           \n",
       "3  NaN                           \n",
       "4  NaN                           \n",
       "\n",
       "                                         EducationParents  \n",
       "0  Bachelor’s degree (BA, BS, B.Eng., etc.)                \n",
       "1  Bachelor’s degree (BA, BS, B.Eng., etc.)                \n",
       "2  NaN                                                     \n",
       "3  Some college/university study without earning a degree  \n",
       "4  Some college/university study without earning a degree  \n",
       "\n",
       "[5 rows x 21 columns]"
      ]
     },
     "execution_count": 12,
     "metadata": {},
     "output_type": "execute_result"
    }
   ],
   "source": [
    "df_new.head()"
   ]
  },
  {
   "cell_type": "markdown",
   "metadata": {},
   "source": [
    "## Country"
   ]
  },
  {
   "cell_type": "code",
   "execution_count": 13,
   "metadata": {},
   "outputs": [
    {
     "data": {
      "text/plain": [
       "184"
      ]
     },
     "execution_count": 13,
     "metadata": {},
     "output_type": "execute_result"
    }
   ],
   "source": [
    "len(df.Country.unique())"
   ]
  },
  {
   "cell_type": "markdown",
   "metadata": {},
   "source": [
    "There are 184 unique countries in the dataset. The 10 countries with most participants are the ones below. The United States and India have the most participants in this survey. Together they make up for around 1/3 of all participants. "
   ]
  },
  {
   "cell_type": "code",
   "execution_count": 14,
   "metadata": {},
   "outputs": [
    {
     "data": {
      "text/plain": [
       "United States         0.205442\n",
       "India                 0.138799\n",
       "Germany               0.065338\n",
       "United Kingdom        0.062931\n",
       "Canada                0.034323\n",
       "Russian Federation    0.029022\n",
       "France                0.026018\n",
       "Brazil                0.025340\n",
       "Poland                0.021466\n",
       "Australia             0.020414\n",
       "Name: Country, dtype: float64"
      ]
     },
     "execution_count": 14,
     "metadata": {},
     "output_type": "execute_result"
    }
   ],
   "source": [
    "(df.Country.value_counts()/len(df))[:10]"
   ]
  },
  {
   "cell_type": "code",
   "execution_count": 15,
   "metadata": {},
   "outputs": [
    {
     "data": {
      "text/plain": [
       "412"
      ]
     },
     "execution_count": 15,
     "metadata": {},
     "output_type": "execute_result"
    }
   ],
   "source": [
    "df.Country.isnull().sum()"
   ]
  },
  {
   "cell_type": "markdown",
   "metadata": {},
   "source": [
    "The column contains missing values. Due to the method of preparing the visualizations, it doesn't make a difference if I remove them or not. Since I don't need to remove them right now, I will leave them in, in case I need them later on."
   ]
  },
  {
   "cell_type": "markdown",
   "metadata": {},
   "source": [
    "## Job Satisfaction"
   ]
  },
  {
   "cell_type": "code",
   "execution_count": 16,
   "metadata": {},
   "outputs": [
    {
     "data": {
      "text/plain": [
       "Moderately satisfied                  26005\n",
       "Extremely satisfied                   12436\n",
       "Slightly satisfied                    10012\n",
       "Slightly dissatisfied                 7057 \n",
       "Moderately dissatisfied               6318 \n",
       "Neither satisfied nor dissatisfied    4966 \n",
       "Extremely dissatisfied                2482 \n",
       "Name: JobSatisfaction, dtype: int64"
      ]
     },
     "execution_count": 16,
     "metadata": {},
     "output_type": "execute_result"
    }
   ],
   "source": [
    "df_new.JobSatisfaction.value_counts()"
   ]
  },
  {
   "cell_type": "code",
   "execution_count": 17,
   "metadata": {},
   "outputs": [],
   "source": [
    "# define an order of values for the column that will be used in the visualizations\n",
    "# otherwise the plots will look too messy; now satisfaction increases from left to right\n",
    "satisfaction = ['Extremely dissatisfied','Moderately dissatisfied','Slightly dissatisfied',\n",
    "                'Neither satisfied nor dissatisfied','Slightly satisfied','Moderately satisfied', \n",
    "                'Extremely satisfied']"
   ]
  },
  {
   "cell_type": "code",
   "execution_count": 18,
   "metadata": {},
   "outputs": [
    {
     "data": {
      "image/png": "[encoded data removed]",
      "text/plain": [
       "<Figure size 432x288 with 1 Axes>"
      ]
     },
     "metadata": {
      "needs_background": "light"
     },
     "output_type": "display_data"
    }
   ],
   "source": [
    "# distribution of job satisfaction across all participants\n",
    "(df_new.JobSatisfaction.value_counts()/len(df_new)).reindex(satisfaction).plot(kind='bar', width=0.7, color='#4682B4');"
   ]
  },
  {
   "cell_type": "markdown",
   "metadata": {},
   "source": [
    "- most participants are satisfied with their job"
   ]
  },
  {
   "cell_type": "markdown",
   "metadata": {},
   "source": [
    "### Job Satisfaction in the U.S. and India"
   ]
  },
  {
   "cell_type": "code",
   "execution_count": 19,
   "metadata": {},
   "outputs": [],
   "source": [
    "# drop all missing values from JobSatisfaction so that the proportions for each country sum up to 1\n",
    "jobsat_sub = df_new.dropna(subset=['JobSatisfaction'])"
   ]
  },
  {
   "cell_type": "code",
   "execution_count": 20,
   "metadata": {},
   "outputs": [
    {
     "data": {
      "image/png": "[encoded data removed]",
      "text/plain": [
       "<Figure size 864x360 with 1 Axes>"
      ]
     },
     "metadata": {
      "needs_background": "light"
     },
     "output_type": "display_data"
    }
   ],
   "source": [
    "# define the height of the bars\n",
    "## U.S. \n",
    "us = (jobsat_sub.groupby(['Country','JobSatisfaction'])['Hobby'].count()['United States']/len(jobsat_sub[jobsat_sub.Country == 'United States'])).reindex(satisfaction).values\n",
    "## India\n",
    "india = (jobsat_sub.groupby(['Country','JobSatisfaction'])['Hobby'].count()['India']/len(jobsat_sub[jobsat_sub.Country == 'India'])).reindex(satisfaction).values \n",
    "\n",
    "ind = np.arange(len(us))  # the x locations\n",
    "width = 0.4  # the width of the bars\n",
    "\n",
    "fig, ax = plt.subplots(figsize=(12,5))\n",
    "rects1 = ax.bar(ind - 0.2, us, width, color='#4682B4', label='U.S.')\n",
    "rects2 = ax.bar(ind + 0.2 , india, width, color='#B0C4DE', label='India')\n",
    " \n",
    "\n",
    "# Add some text for labels, title and custom x-axis tick labels, etc.\n",
    "\n",
    "ax.set_ylabel('Proportion', fontdict={'fontsize':14})\n",
    "ax.set_title('Job Satisfaction', fontdict={'fontsize':16})\n",
    "ax.set_xticks(ind)\n",
    "ax.set_xticklabels(('Extremely\\ndissatisfied','Moderately\\ndissatisfied','Slightly\\ndissatisfied',\n",
    "                'Neither\\nsatisfied\\nnor\\ndissatisfied','Slightly\\nsatisfied','Moderately\\nsatisfied', \n",
    "                'Extremely\\nsatisfied'), fontdict={'fontsize':14}, rotation_mode='anchor')\n",
    "ax.legend()\n",
    "plt.tight_layout()\n",
    "plt.savefig('JobSatisfaction.png', dpi=600);"
   ]
  },
  {
   "cell_type": "code",
   "execution_count": 21,
   "metadata": {},
   "outputs": [
    {
     "data": {
      "text/plain": [
       "JobSatisfaction\n",
       "Extremely dissatisfied                0.033188\n",
       "Moderately dissatisfied               0.087892\n",
       "Slightly dissatisfied                 0.089532\n",
       "Neither satisfied nor dissatisfied    0.052748\n",
       "Slightly satisfied                    0.117358\n",
       "Moderately satisfied                  0.381917\n",
       "Extremely satisfied                   0.237365\n",
       "Name: Hobby, dtype: float64"
      ]
     },
     "execution_count": 21,
     "metadata": {},
     "output_type": "execute_result"
    }
   ],
   "source": [
    "#looking up the actual numbers for the blog post\n",
    "(jobsat_sub.groupby(['Country','JobSatisfaction'])['Hobby'].count()['United States']/len(jobsat_sub[jobsat_sub.Country == 'United States'])).reindex(satisfaction)"
   ]
  },
  {
   "cell_type": "code",
   "execution_count": 22,
   "metadata": {},
   "outputs": [
    {
     "data": {
      "text/plain": [
       "JobSatisfaction\n",
       "Extremely dissatisfied                0.047033\n",
       "Moderately dissatisfied               0.086268\n",
       "Slightly dissatisfied                 0.119045\n",
       "Neither satisfied nor dissatisfied    0.114780\n",
       "Slightly satisfied                    0.171073\n",
       "Moderately satisfied                  0.329840\n",
       "Extremely satisfied                   0.131961\n",
       "Name: Hobby, dtype: float64"
      ]
     },
     "execution_count": 22,
     "metadata": {},
     "output_type": "execute_result"
    }
   ],
   "source": [
    "#looking up the actual numbers for the blog post\n",
    "(jobsat_sub.groupby(['Country','JobSatisfaction'])['Hobby'].count()['India']/len(jobsat_sub[jobsat_sub.Country == 'India'])).reindex(satisfaction) "
   ]
  },
  {
   "cell_type": "markdown",
   "metadata": {},
   "source": [
    "## Wakeup Times (not used in blogpost)"
   ]
  },
  {
   "cell_type": "code",
   "execution_count": 23,
   "metadata": {},
   "outputs": [
    {
     "data": {
      "text/plain": [
       "array(['Between 5:00 - 6:00 AM', 'Between 6:01 - 7:00 AM', nan,\n",
       "       'Before 5:00 AM', 'Between 7:01 - 8:00 AM',\n",
       "       'Between 9:01 - 10:00 AM', 'I do not have a set schedule',\n",
       "       'Between 8:01 - 9:00 AM', 'Between 10:01 - 11:00 AM',\n",
       "       'Between 11:01 AM - 12:00 PM', 'After 12:01 PM',\n",
       "       'I work night shifts'], dtype=object)"
      ]
     },
     "execution_count": 23,
     "metadata": {},
     "output_type": "execute_result"
    }
   ],
   "source": [
    "df.WakeTime.unique()"
   ]
  },
  {
   "cell_type": "code",
   "execution_count": 24,
   "metadata": {},
   "outputs": [],
   "source": [
    "#Encode WakeUp into fewer categories\n",
    "wakeup = {'I work night shifts' : 'nightowl', \n",
    "          'After 12:01 PM' : 'nightowl', \n",
    "          'Before 5:00 AM' : 'earlybird', \n",
    "          'Between 5:00 - 6:00 AM' : 'earlybird',\n",
    "          'Between 6:01 - 7:00 AM' : 'between6and8',\n",
    "          'Between 7:01 - 8:00 AM' : 'between6and8',\n",
    "          'Between 8:01 - 9:00 AM' : 'between8and10',\n",
    "          'Between 9:01 - 10:00 AM' : 'between8and10',\n",
    "          'Between 10:01 - 11:00 AM' : 'between10and12',\n",
    "          'Between 11:01 AM - 12:00 PM' : 'between10and12'}"
   ]
  },
  {
   "cell_type": "code",
   "execution_count": 25,
   "metadata": {},
   "outputs": [
    {
     "name": "stderr",
     "output_type": "stream",
     "text": [
      "/home/annalena/anaconda3/lib/python3.7/site-packages/ipykernel_launcher.py:1: SettingWithCopyWarning: \n",
      "A value is trying to be set on a copy of a slice from a DataFrame.\n",
      "Try using .loc[row_indexer,col_indexer] = value instead\n",
      "\n",
      "See the caveats in the documentation: http://pandas.pydata.org/pandas-docs/stable/indexing.html#indexing-view-versus-copy\n",
      "  \"\"\"Entry point for launching an IPython kernel.\n"
     ]
    }
   ],
   "source": [
    "df_new['wakeup'] = df_new['WakeTime'].map(wakeup)"
   ]
  },
  {
   "cell_type": "code",
   "execution_count": 26,
   "metadata": {},
   "outputs": [],
   "source": [
    "times = ['earlybird','between6and8','between8and10','between10and12','nightowl']"
   ]
  },
  {
   "cell_type": "code",
   "execution_count": 27,
   "metadata": {},
   "outputs": [
    {
     "data": {
      "text/plain": [
       "wakeup\n",
       "earlybird         0.164065\n",
       "between6and8      0.481068\n",
       "between8and10     0.137821\n",
       "between10and12    0.008962\n",
       "nightowl          0.002462\n",
       "Name: Hobby, dtype: float64"
      ]
     },
     "execution_count": 27,
     "metadata": {},
     "output_type": "execute_result"
    }
   ],
   "source": [
    "(df_new.groupby(['Country','wakeup'])['Hobby'].count()['United States']/len(df_new[df_new.Country == 'United States'])).reindex(times)\n"
   ]
  },
  {
   "cell_type": "code",
   "execution_count": 28,
   "metadata": {},
   "outputs": [],
   "source": [
    "#drop all participants who did not provide an answer for their wakeup time\n",
    "wakeup_sub = df_new.dropna(subset=['wakeup'])"
   ]
  },
  {
   "cell_type": "code",
   "execution_count": 29,
   "metadata": {},
   "outputs": [
    {
     "data": {
      "image/png": "[encoded data removed]",
      "text/plain": [
       "<Figure size 720x360 with 1 Axes>"
      ]
     },
     "metadata": {
      "needs_background": "light"
     },
     "output_type": "display_data"
    }
   ],
   "source": [
    "# plot wakeup times for both countries\n",
    "us = (wakeup_sub.groupby(['Country','wakeup'])['Hobby'].count()['United States']/len(wakeup_sub[wakeup_sub.Country == 'United States'])).reindex(times).values\n",
    "india = (wakeup_sub.groupby(['Country','wakeup'])['Hobby'].count()['India']/len(wakeup_sub[wakeup_sub.Country == 'India'])).reindex(times).values \n",
    "\n",
    "ind = np.arange(len(us))  # the x locations\n",
    "width = 0.4  # the width of the bars\n",
    "\n",
    "fig, ax = plt.subplots(figsize=(10,5))\n",
    "rects1 = ax.bar(ind - 0.2, us, width, color='#4682B4', label='U.S.')\n",
    "rects2 = ax.bar(ind + 0.2 , india, width, color='#B0C4DE', label='India')\n",
    "\n",
    "ax.set_ylabel('Proportion', fontdict={'fontsize':12})\n",
    "ax.set_title('Wake-Up Times', fontdict={'fontsize':16})\n",
    "ax.set_xticks(ind)\n",
    "ax.set_xticklabels(('earlybird\\n(before 6)','between 6 and 8','between 8 and 10','between 10 and 12','nightowl\\n(working nights)'), fontdict={'fontsize':12}, rotation_mode='anchor')\n",
    "ax.legend()\n",
    "plt.tight_layout()"
   ]
  },
  {
   "cell_type": "markdown",
   "metadata": {},
   "source": [
    "## Company size (not used in blog post)"
   ]
  },
  {
   "cell_type": "code",
   "execution_count": 30,
   "metadata": {},
   "outputs": [],
   "source": [
    "# only use observations that provided an answer to this questions\n",
    "comp_sub = df_new.dropna(subset=['CompanySize'])"
   ]
  },
  {
   "cell_type": "code",
   "execution_count": 31,
   "metadata": {},
   "outputs": [
    {
     "data": {
      "text/plain": [
       "0.7235951646350716"
      ]
     },
     "execution_count": 31,
     "metadata": {},
     "output_type": "execute_result"
    }
   ],
   "source": [
    "# proprtion of people who provided an answer to this question\n",
    "comp_sub.shape[0]/len(df_new)"
   ]
  },
  {
   "cell_type": "code",
   "execution_count": 32,
   "metadata": {},
   "outputs": [],
   "source": [
    "# defining a list of company sizes for reindexing in the plots (all in the same order, increasing size from left \n",
    "# to right)\n",
    "sizes = ['Fewer than 10 employees', '10 to 19 employees', '20 to 99 employees', '100 to 499 employees',\n",
    "         '500 to 999 employees', '1,000 to 4,999 employees', '5,000 to 9,999 employees','10,000 or more employees']"
   ]
  },
  {
   "cell_type": "code",
   "execution_count": 33,
   "metadata": {},
   "outputs": [
    {
     "data": {
      "image/png": "[encoded data removed]",
      "text/plain": [
       "<Figure size 864x288 with 1 Axes>"
      ]
     },
     "metadata": {
      "needs_background": "light"
     },
     "output_type": "display_data"
    }
   ],
   "source": [
    "plt.figure(figsize=(12,4))\n",
    "df.CompanySize.value_counts().reindex(sizes).plot(kind=\"bar\",color='#4682B4', width=0.7)\n",
    "plt.xticks(ticks=np.arange(0,8), \n",
    "           labels=['< 10','10-19','20-99','100-499','500-999','1000-4999','5000-9999','> 10000'],\n",
    "           rotation=45)\n",
    "plt.yticks(ticks=np.arange(0,17000,5000), labels=['0','5k','10k','15k'])\n",
    "plt.ylabel('Count')\n",
    "plt.title('Distribution of Company Sizes')\n",
    "plt.tight_layout()"
   ]
  },
  {
   "cell_type": "code",
   "execution_count": 34,
   "metadata": {},
   "outputs": [
    {
     "data": {
      "image/png": "[encoded data removed]",
      "text/plain": [
       "<Figure size 1008x360 with 1 Axes>"
      ]
     },
     "metadata": {
      "needs_background": "light"
     },
     "output_type": "display_data"
    }
   ],
   "source": [
    "# defining the height of the bars\n",
    "us = (comp_sub.groupby(['Country','CompanySize'])['Hobby'].count()['United States']/len(comp_sub[comp_sub.Country == 'United States'])).reindex(sizes).values\n",
    "india = (comp_sub.groupby(['Country','CompanySize'])['Hobby'].count()['India']/len(comp_sub[comp_sub.Country == 'India'])).reindex(sizes).values \n",
    "\n",
    "ind = np.arange(len(us))  # the x locations\n",
    "width = 0.4  # the width of the bars\n",
    "\n",
    "fig, ax = plt.subplots(figsize=(14,5))\n",
    "rects1 = ax.bar(ind - 0.2, us, width, color='#4682B4', label='U.S.')\n",
    "rects2 = ax.bar(ind + 0.2 , india, width, color='#B0C4DE', label='India')\n",
    "\n",
    "ax.set_ylabel('Proportion', fontdict={'fontsize':12})\n",
    "ax.set_title('Company Size', fontdict={'fontsize':16})\n",
    "ax.set_xticks(ind)\n",
    "ax.set_xticklabels(('< 10', '10 - 19', '20 - 99', '100 - 499',\n",
    "                    '500 - 999', '1,000 - 4,999', '5,000 - 9,999',\n",
    "                    '> 10,000'), fontdict={'fontsize':12}, rotation_mode='anchor')\n",
    "ax.set_xlabel('Number of employees', fontdict={'fontsize':12})\n",
    "ax.legend()\n",
    "plt.tight_layout()\n",
    "plt.savefig('CompanySize.png', dpi=600);"
   ]
  },
  {
   "cell_type": "markdown",
   "metadata": {},
   "source": [
    "## What developers hope to be doing in 5 years"
   ]
  },
  {
   "cell_type": "code",
   "execution_count": 35,
   "metadata": {},
   "outputs": [
    {
     "data": {
      "text/plain": [
       "Working in a different or more specialized technical role than the one I'm in now    25643\n",
       "Working as a founder or co-founder of my own company                                 19444\n",
       "Doing the same work                                                                  14724\n",
       "Working as an engineering manager or other functional manager                        7483 \n",
       "Working as a product manager or project manager                                      5004 \n",
       "Working in a career completely unrelated to software development                     2151 \n",
       "Retirement                                                                           1269 \n",
       "Name: HopeFiveYears, dtype: int64"
      ]
     },
     "execution_count": 35,
     "metadata": {},
     "output_type": "execute_result"
    }
   ],
   "source": [
    "df_new.HopeFiveYears.value_counts()"
   ]
  },
  {
   "cell_type": "markdown",
   "metadata": {},
   "source": [
    "There were 7 options for this answer. "
   ]
  },
  {
   "cell_type": "code",
   "execution_count": 36,
   "metadata": {},
   "outputs": [],
   "source": [
    "#create the subset for the visualization (only including people who provided an answer\n",
    "#to the question)\n",
    "hope = df_new.dropna(subset=['HopeFiveYears'])"
   ]
  },
  {
   "cell_type": "code",
   "execution_count": 37,
   "metadata": {},
   "outputs": [
    {
     "data": {
      "image/png": "[encoded data removed]",
      "text/plain": [
       "<Figure size 1008x360 with 1 Axes>"
      ]
     },
     "metadata": {
      "needs_background": "light"
     },
     "output_type": "display_data"
    }
   ],
   "source": [
    "#Visualize the proportion of developers in each country by the kind of thing they want\n",
    "#to be doing in 5 years\n",
    "\n",
    "us = (hope.groupby(['Country','HopeFiveYears'])['Hobby'].count()['United States']/len(hope[hope.Country == 'United States'])).values\n",
    "india = (hope.groupby(['Country','HopeFiveYears'])['Hobby'].count()['India']/len(hope[hope.Country == 'India'])).values \n",
    "\n",
    "ind = np.arange(len(us))  # the x locations\n",
    "width = 0.4  # the width of the bars\n",
    "\n",
    "fig, ax = plt.subplots(figsize=(14,5))\n",
    "rects1 = ax.bar(ind - 0.2, us, width, color='#4682B4', label='U.S.')\n",
    "rects2 = ax.bar(ind + 0.2 , india, width, color='#B0C4DE', label='India')\n",
    "\n",
    "ax.set_ylabel('Proportion', fontdict={'fontsize':12})\n",
    "ax.set_title('What developers hope to be doing in 5 years', fontdict={'fontsize':16})\n",
    "ax.set_xticks(ind)\n",
    "ax.set_xticklabels(('do same work','retired','(co-)found own\\ncompany',\n",
    "                    'product or\\nproject\\nmanager','engineering\\nor functional\\nmanager',\n",
    "                    'career unrelated\\nto software\\ndevelopment','more specialized\\ntechnical role'), \n",
    "                    fontdict={'fontsize':12}, rotation_mode='anchor')\n",
    "ax.legend()\n",
    "plt.tight_layout()\n",
    "plt.savefig('FiveYears.png', dpi=600);"
   ]
  },
  {
   "cell_type": "code",
   "execution_count": 38,
   "metadata": {},
   "outputs": [
    {
     "data": {
      "text/plain": [
       "HopeFiveYears\n",
       "Doing the same work                                                                  0.246903\n",
       "Retirement                                                                           0.027421\n",
       "Working as a founder or co-founder of my own company                                 0.213904\n",
       "Working as a product manager or project manager                                      0.041513\n",
       "Working as an engineering manager or other functional manager                        0.118783\n",
       "Working in a career completely unrelated to software development                     0.025189\n",
       "Working in a different or more specialized technical role than the one I'm in now    0.326287\n",
       "Name: Hobby, dtype: float64"
      ]
     },
     "execution_count": 38,
     "metadata": {},
     "output_type": "execute_result"
    }
   ],
   "source": [
    "#get the actual numbers for the plot above to use for the blogpost\n",
    "hope.groupby(['Country','HopeFiveYears'])['Hobby'].count()['United States']/len(hope[hope.Country == 'United States'])"
   ]
  },
  {
   "cell_type": "code",
   "execution_count": 39,
   "metadata": {},
   "outputs": [
    {
     "data": {
      "text/plain": [
       "HopeFiveYears\n",
       "Doing the same work                                                                  0.090201\n",
       "Retirement                                                                           0.007895\n",
       "Working as a founder or co-founder of my own company                                 0.261086\n",
       "Working as a product manager or project manager                                      0.121025\n",
       "Working as an engineering manager or other functional manager                        0.072139\n",
       "Working in a career completely unrelated to software development                     0.035042\n",
       "Working in a different or more specialized technical role than the one I'm in now    0.412611\n",
       "Name: Hobby, dtype: float64"
      ]
     },
     "execution_count": 39,
     "metadata": {},
     "output_type": "execute_result"
    }
   ],
   "source": [
    "#get the actual numbers for the plot above to use for the blogpost\n",
    "hope.groupby(['Country','HopeFiveYears'])['Hobby'].count()['India']/len(hope[hope.Country == 'India'])"
   ]
  },
  {
   "cell_type": "markdown",
   "metadata": {},
   "source": [
    "### What are the proportions for what developers want to be doing in 5 years across the whole dataset?"
   ]
  },
  {
   "cell_type": "code",
   "execution_count": 40,
   "metadata": {},
   "outputs": [
    {
     "data": {
      "text/plain": [
       "Working in a different or more specialized technical role than the one I'm in now    0.259400\n",
       "Working as a founder or co-founder of my own company                                 0.196692\n",
       "Doing the same work                                                                  0.148945\n",
       "Working as an engineering manager or other functional manager                        0.075697\n",
       "Working as a product manager or project manager                                      0.050620\n",
       "Working in a career completely unrelated to software development                     0.021759\n",
       "Retirement                                                                           0.012837\n",
       "Name: HopeFiveYears, dtype: float64"
      ]
     },
     "execution_count": 40,
     "metadata": {},
     "output_type": "execute_result"
    }
   ],
   "source": [
    "df.HopeFiveYears.value_counts()/len(df)"
   ]
  },
  {
   "cell_type": "markdown",
   "metadata": {},
   "source": [
    "## Last Job Change"
   ]
  },
  {
   "cell_type": "code",
   "execution_count": 41,
   "metadata": {},
   "outputs": [
    {
     "data": {
      "text/plain": [
       "Less than a year ago         27321\n",
       "Between 1 and 2 years ago    17332\n",
       "More than 4 years ago        14871\n",
       "Between 2 and 4 years ago    14792\n",
       "I've never had a job         4573 \n",
       "Name: LastNewJob, dtype: int64"
      ]
     },
     "execution_count": 41,
     "metadata": {},
     "output_type": "execute_result"
    }
   ],
   "source": [
    "df_new.LastNewJob.value_counts()"
   ]
  },
  {
   "cell_type": "code",
   "execution_count": 42,
   "metadata": {},
   "outputs": [],
   "source": [
    "# create a list of ordered items for the plot\n",
    "lastjob = ['I\\'ve never had a job','Less than a year ago','Between 1 and 2 years ago',\n",
    "           'Between 2 and 4 years ago','More than 4 years ago']"
   ]
  },
  {
   "cell_type": "code",
   "execution_count": 43,
   "metadata": {},
   "outputs": [],
   "source": [
    "# only keep observations that provided an answer to this question\n",
    "newjob_sub = df_new.dropna(subset=['LastNewJob'])"
   ]
  },
  {
   "cell_type": "code",
   "execution_count": 44,
   "metadata": {},
   "outputs": [
    {
     "data": {
      "image/png": "[encoded data removed]",
      "text/plain": [
       "<Figure size 720x360 with 1 Axes>"
      ]
     },
     "metadata": {
      "needs_background": "light"
     },
     "output_type": "display_data"
    }
   ],
   "source": [
    "# height of the bars\n",
    "us = (newjob_sub.groupby(['Country','LastNewJob'])['Hobby'].count()['United States']/len(newjob_sub[newjob_sub.Country == 'United States'])).reindex(lastjob).values\n",
    "india = (newjob_sub.groupby(['Country','LastNewJob'])['Hobby'].count()['India']/len(newjob_sub[newjob_sub.Country == 'India'])).reindex(lastjob).values \n",
    "\n",
    "ind = np.arange(len(us))  # the x locations\n",
    "width = 0.4  # the width of the bars\n",
    "\n",
    "fig, ax = plt.subplots(figsize=(10,5))\n",
    "rects1 = ax.bar(ind - 0.2, us, width, color='#4682B4', label='U.S.')\n",
    "rects2 = ax.bar(ind + 0.2 , india, width, color='#B0C4DE', label='India')\n",
    "\n",
    "ax.set_ylabel('Proportion', fontdict={'fontsize':12})\n",
    "ax.set_title('Time since last job change', fontdict={'fontsize':16})\n",
    "ax.set_xticks(ind)\n",
    "ax.set_xticklabels(('not had a job yet','< 1 year','1-2 years','2-4 years','> 4 years'), fontdict={'fontsize':12}, rotation_mode='anchor')\n",
    "ax.legend()\n",
    "plt.tight_layout()\n",
    "plt.savefig('JobChange.png', dpi=600);"
   ]
  },
  {
   "cell_type": "code",
   "execution_count": 45,
   "metadata": {},
   "outputs": [
    {
     "data": {
      "text/plain": [
       "LastNewJob\n",
       "I've never had a job         0.029660\n",
       "Less than a year ago         0.313049\n",
       "Between 1 and 2 years ago    0.208756\n",
       "Between 2 and 4 years ago    0.210628\n",
       "More than 4 years ago        0.237906\n",
       "Name: Hobby, dtype: float64"
      ]
     },
     "execution_count": 45,
     "metadata": {},
     "output_type": "execute_result"
    }
   ],
   "source": [
    "# get actual numbers for the blogpost\n",
    "(newjob_sub.groupby(['Country','LastNewJob'])['Hobby'].count()['United States']/len(newjob_sub[newjob_sub.Country == 'United States'])).reindex(lastjob)"
   ]
  },
  {
   "cell_type": "code",
   "execution_count": 46,
   "metadata": {},
   "outputs": [
    {
     "data": {
      "text/plain": [
       "LastNewJob\n",
       "I've never had a job         0.111911\n",
       "Less than a year ago         0.363505\n",
       "Between 1 and 2 years ago    0.252829\n",
       "Between 2 and 4 years ago    0.176918\n",
       "More than 4 years ago        0.094836\n",
       "Name: Hobby, dtype: float64"
      ]
     },
     "execution_count": 46,
     "metadata": {},
     "output_type": "execute_result"
    }
   ],
   "source": [
    "# get actual numbers for the blogpost\n",
    "(newjob_sub.groupby(['Country','LastNewJob'])['Hobby'].count()['India']/len(newjob_sub[newjob_sub.Country == 'India'])).reindex(lastjob)"
   ]
  },
  {
   "cell_type": "markdown",
   "metadata": {},
   "source": [
    "### How big is the \"not had a job yet\" percentage for the whole dataset?"
   ]
  },
  {
   "cell_type": "code",
   "execution_count": 47,
   "metadata": {},
   "outputs": [
    {
     "data": {
      "text/plain": [
       "I've never had a job         0.046260\n",
       "Less than a year ago         0.276374\n",
       "Between 1 and 2 years ago    0.175327\n",
       "Between 2 and 4 years ago    0.149633\n",
       "More than 4 years ago        0.150432\n",
       "Name: LastNewJob, dtype: float64"
      ]
     },
     "execution_count": 47,
     "metadata": {},
     "output_type": "execute_result"
    }
   ],
   "source": [
    "(df.LastNewJob.value_counts()/len(df)).reindex(lastjob)"
   ]
  },
  {
   "cell_type": "markdown",
   "metadata": {},
   "source": [
    "## Hours in front of the computer (not used in the blogpost)"
   ]
  },
  {
   "cell_type": "code",
   "execution_count": 48,
   "metadata": {},
   "outputs": [
    {
     "data": {
      "text/plain": [
       "9 - 12 hours        37983\n",
       "5 - 8 hours         22070\n",
       "Over 12 hours       9549 \n",
       "1 - 4 hours         2349 \n",
       "Less than 1 hour    182  \n",
       "Name: HoursComputer, dtype: int64"
      ]
     },
     "execution_count": 48,
     "metadata": {},
     "output_type": "execute_result"
    }
   ],
   "source": [
    "df_new.HoursComputer.value_counts()"
   ]
  },
  {
   "cell_type": "code",
   "execution_count": 49,
   "metadata": {},
   "outputs": [],
   "source": [
    "# list of ordered items for plot\n",
    "hours = ['Less than 1 hour','1 - 4 hours','5 - 8 hours','9 - 12 hours','Over 12 hours']"
   ]
  },
  {
   "cell_type": "code",
   "execution_count": 50,
   "metadata": {},
   "outputs": [],
   "source": [
    "# subset without missing values in this feature\n",
    "hours_sub = df_new.dropna(subset=['HoursComputer'])"
   ]
  },
  {
   "cell_type": "code",
   "execution_count": 51,
   "metadata": {},
   "outputs": [
    {
     "data": {
      "image/png": "[encoded data removed]",
      "text/plain": [
       "<Figure size 720x360 with 1 Axes>"
      ]
     },
     "metadata": {
      "needs_background": "light"
     },
     "output_type": "display_data"
    }
   ],
   "source": [
    "us = (hours_sub.groupby(['Country','HoursComputer'])['Hobby'].count()['United States']/len(hours_sub[hours_sub.Country == 'United States'])).reindex(hours).values\n",
    "india = (hours_sub.groupby(['Country','HoursComputer'])['Hobby'].count()['India']/len(hours_sub[hours_sub.Country == 'India'])).reindex(hours).values \n",
    "\n",
    "ind = np.arange(len(us))  # the x locations\n",
    "width = 0.4  # the width of the bars\n",
    "\n",
    "fig, ax = plt.subplots(figsize=(10,5))\n",
    "rects1 = ax.bar(ind - 0.2, us, width, color='#4682B4', label='U.S.')\n",
    "rects2 = ax.bar(ind + 0.2 , india, width, color='#B0C4DE', label='India')\n",
    " \n",
    "\n",
    "# Add some text for labels, title and custom x-axis tick labels, etc.\n",
    "\n",
    "ax.set_ylabel('Proportion', fontdict={'fontsize':12})\n",
    "ax.set_title('Hours Spent in front of Computer', fontdict={'fontsize':16})\n",
    "ax.set_xticks(ind)\n",
    "ax.set_xticklabels(('< 1hr','1-4hrs','5-8hrs','9-12hrs','> 12hrs'), fontdict={'fontsize':12}, rotation_mode='anchor')\n",
    "ax.legend()\n",
    "plt.tight_layout()"
   ]
  },
  {
   "cell_type": "markdown",
   "metadata": {},
   "source": [
    "### Wakeup time across multiple company sizes (not used in blogpost)"
   ]
  },
  {
   "cell_type": "code",
   "execution_count": 53,
   "metadata": {},
   "outputs": [
    {
     "data": {
      "image/png": "[encoded data removed]",
      "text/plain": [
       "<Figure size 864x576 with 1 Axes>"
      ]
     },
     "metadata": {
      "needs_background": "light"
     },
     "output_type": "display_data"
    }
   ],
   "source": [
    "#Plotting WakeUp Times vs. Company Size\n",
    "early = df_new.groupby(['wakeup','CompanySize'])['Hobby'].count()['earlybird'].reindex(sizes).values\n",
    "sixeight = df_new.groupby(['wakeup','CompanySize'])['Hobby'].count()['between6and8'].reindex(sizes).values\n",
    "eightten = df_new.groupby(['wakeup','CompanySize'])['Hobby'].count()['between8and10'].reindex(sizes).values\n",
    "tentwelve = df_new.groupby(['wakeup','CompanySize'])['Hobby'].count()['between10and12'].reindex(sizes).values\n",
    "late = df_new.groupby(['wakeup','CompanySize'])['Hobby'].count()['nightowl'].reindex(sizes).values\n",
    "\n",
    "plt.figure(figsize=(12,8))\n",
    "plt.rcParams.update({'font.size': 14})\n",
    "r = [0,1,2,3,4,5,6,7]\n",
    "\n",
    "plt.plot(early, label='earlybirds', marker='.', color='#E74C3C')\n",
    "plt.plot(sixeight, label='6am-8am', color='#8E44AD', marker='.')\n",
    "plt.plot(eightten, label='8am-10am', color='#3498DB', marker='.')\n",
    "plt.plot(tentwelve, label='10am-12pm', color='#16A085', marker='.')\n",
    "plt.plot(late, label='nightowls', color='#F39C12', marker='.')\n",
    "\n",
    "plt.xticks(r, ['< 10','10-19','20-99','100-499','500-999','1000-4999','5000-9999','> 10000'])\n",
    "plt.xlabel('Number of Employees in Company')\n",
    "#plt.yticks(np.arange(0,50000,10000),['0','10k','20k','30k','40k','50k'])\n",
    "plt.ylabel('Count')\n",
    "plt.title('Wakeup Times ')\n",
    "lgd = plt.legend(bbox_to_anchor=(1,1), title='Wakeup Time')\n",
    "plt.tight_layout()\n",
    "plt.savefig('WakeupTimesByCompanySize.png', dpi=600);"
   ]
  },
  {
   "cell_type": "code",
   "execution_count": null,
   "metadata": {},
   "outputs": [],
   "source": []
  }
 ],
 "metadata": {
  "kernelspec": {
   "display_name": "Python 3",
   "language": "python",
   "name": "python3"
  },
  "language_info": {
   "codemirror_mode": {
    "name": "ipython",
    "version": 3
   },
   "file_extension": ".py",
   "mimetype": "text/x-python",
   "name": "python",
   "nbconvert_exporter": "python",
   "pygments_lexer": "ipython3",
   "version": "3.7.1"
  }
 },
 "nbformat": 4,
 "nbformat_minor": 2
}
